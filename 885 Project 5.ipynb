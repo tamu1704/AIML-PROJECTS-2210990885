{
 "cells": [
  {
   "cell_type": "code",
   "execution_count": 2,
   "id": "66cd085c",
   "metadata": {},
   "outputs": [
    {
     "name": "stderr",
     "output_type": "stream",
     "text": [
      "C:\\Users\\Asus\\anaconda3\\lib\\site-packages\\pandas\\io\\sql.py:761: UserWarning: pandas only support SQLAlchemy connectable(engine/connection) ordatabase string URI or sqlite3 DBAPI2 connectionother DBAPI2 objects are not tested, please consider using SQLAlchemy\n",
      "  warnings.warn(\n"
     ]
    },
    {
     "data": {
      "text/html": [
       "<div>\n",
       "<style scoped>\n",
       "    .dataframe tbody tr th:only-of-type {\n",
       "        vertical-align: middle;\n",
       "    }\n",
       "\n",
       "    .dataframe tbody tr th {\n",
       "        vertical-align: top;\n",
       "    }\n",
       "\n",
       "    .dataframe thead th {\n",
       "        text-align: right;\n",
       "    }\n",
       "</style>\n",
       "<table border=\"1\" class=\"dataframe\">\n",
       "  <thead>\n",
       "    <tr style=\"text-align: right;\">\n",
       "      <th></th>\n",
       "      <th>PassengerId</th>\n",
       "      <th>Survived</th>\n",
       "      <th>Pclass</th>\n",
       "      <th>Name</th>\n",
       "      <th>Sex</th>\n",
       "      <th>Age</th>\n",
       "      <th>SibSp</th>\n",
       "      <th>Parch</th>\n",
       "      <th>Ticket</th>\n",
       "      <th>Fare</th>\n",
       "      <th>Cabin</th>\n",
       "      <th>Embarked</th>\n",
       "    </tr>\n",
       "  </thead>\n",
       "  <tbody>\n",
       "    <tr>\n",
       "      <th>0</th>\n",
       "      <td>1</td>\n",
       "      <td>0</td>\n",
       "      <td>3</td>\n",
       "      <td>Braund, Mr. Owen Harris</td>\n",
       "      <td>male</td>\n",
       "      <td>22</td>\n",
       "      <td>1</td>\n",
       "      <td>0</td>\n",
       "      <td>A/5 21171</td>\n",
       "      <td>7.2500</td>\n",
       "      <td></td>\n",
       "      <td>S</td>\n",
       "    </tr>\n",
       "    <tr>\n",
       "      <th>1</th>\n",
       "      <td>2</td>\n",
       "      <td>1</td>\n",
       "      <td>1</td>\n",
       "      <td>Cumings, Mrs. John Bradley (Florence Briggs Th...</td>\n",
       "      <td>female</td>\n",
       "      <td>38</td>\n",
       "      <td>1</td>\n",
       "      <td>0</td>\n",
       "      <td>PC 17599</td>\n",
       "      <td>71.2833</td>\n",
       "      <td>C85</td>\n",
       "      <td>C</td>\n",
       "    </tr>\n",
       "    <tr>\n",
       "      <th>2</th>\n",
       "      <td>3</td>\n",
       "      <td>1</td>\n",
       "      <td>3</td>\n",
       "      <td>Heikkinen, Miss. Laina</td>\n",
       "      <td>female</td>\n",
       "      <td>26</td>\n",
       "      <td>0</td>\n",
       "      <td>0</td>\n",
       "      <td>STON/O2. 3101282</td>\n",
       "      <td>7.9250</td>\n",
       "      <td></td>\n",
       "      <td>S</td>\n",
       "    </tr>\n",
       "    <tr>\n",
       "      <th>3</th>\n",
       "      <td>4</td>\n",
       "      <td>1</td>\n",
       "      <td>1</td>\n",
       "      <td>Futrelle, Mrs. Jacques Heath (Lily May Peel)</td>\n",
       "      <td>female</td>\n",
       "      <td>35</td>\n",
       "      <td>1</td>\n",
       "      <td>0</td>\n",
       "      <td>113803</td>\n",
       "      <td>53.1000</td>\n",
       "      <td>C123</td>\n",
       "      <td>S</td>\n",
       "    </tr>\n",
       "    <tr>\n",
       "      <th>4</th>\n",
       "      <td>5</td>\n",
       "      <td>0</td>\n",
       "      <td>3</td>\n",
       "      <td>Allen, Mr. William Henry</td>\n",
       "      <td>male</td>\n",
       "      <td>35</td>\n",
       "      <td>0</td>\n",
       "      <td>0</td>\n",
       "      <td>373450</td>\n",
       "      <td>8.0500</td>\n",
       "      <td></td>\n",
       "      <td>S</td>\n",
       "    </tr>\n",
       "    <tr>\n",
       "      <th>...</th>\n",
       "      <td>...</td>\n",
       "      <td>...</td>\n",
       "      <td>...</td>\n",
       "      <td>...</td>\n",
       "      <td>...</td>\n",
       "      <td>...</td>\n",
       "      <td>...</td>\n",
       "      <td>...</td>\n",
       "      <td>...</td>\n",
       "      <td>...</td>\n",
       "      <td>...</td>\n",
       "      <td>...</td>\n",
       "    </tr>\n",
       "    <tr>\n",
       "      <th>709</th>\n",
       "      <td>886</td>\n",
       "      <td>0</td>\n",
       "      <td>3</td>\n",
       "      <td>Rice, Mrs. William (Margaret Norton)</td>\n",
       "      <td>female</td>\n",
       "      <td>39</td>\n",
       "      <td>0</td>\n",
       "      <td>5</td>\n",
       "      <td>382652</td>\n",
       "      <td>29.1250</td>\n",
       "      <td></td>\n",
       "      <td>Q</td>\n",
       "    </tr>\n",
       "    <tr>\n",
       "      <th>710</th>\n",
       "      <td>887</td>\n",
       "      <td>0</td>\n",
       "      <td>2</td>\n",
       "      <td>Montvila, Rev. Juozas</td>\n",
       "      <td>male</td>\n",
       "      <td>27</td>\n",
       "      <td>0</td>\n",
       "      <td>0</td>\n",
       "      <td>211536</td>\n",
       "      <td>13.0000</td>\n",
       "      <td></td>\n",
       "      <td>S</td>\n",
       "    </tr>\n",
       "    <tr>\n",
       "      <th>711</th>\n",
       "      <td>888</td>\n",
       "      <td>1</td>\n",
       "      <td>1</td>\n",
       "      <td>Graham, Miss. Margaret Edith</td>\n",
       "      <td>female</td>\n",
       "      <td>19</td>\n",
       "      <td>0</td>\n",
       "      <td>0</td>\n",
       "      <td>112053</td>\n",
       "      <td>30.0000</td>\n",
       "      <td>B42</td>\n",
       "      <td>S</td>\n",
       "    </tr>\n",
       "    <tr>\n",
       "      <th>712</th>\n",
       "      <td>890</td>\n",
       "      <td>1</td>\n",
       "      <td>1</td>\n",
       "      <td>Behr, Mr. Karl Howell</td>\n",
       "      <td>male</td>\n",
       "      <td>26</td>\n",
       "      <td>0</td>\n",
       "      <td>0</td>\n",
       "      <td>111369</td>\n",
       "      <td>30.0000</td>\n",
       "      <td>C148</td>\n",
       "      <td>C</td>\n",
       "    </tr>\n",
       "    <tr>\n",
       "      <th>713</th>\n",
       "      <td>891</td>\n",
       "      <td>0</td>\n",
       "      <td>3</td>\n",
       "      <td>Dooley, Mr. Patrick</td>\n",
       "      <td>male</td>\n",
       "      <td>32</td>\n",
       "      <td>0</td>\n",
       "      <td>0</td>\n",
       "      <td>370376</td>\n",
       "      <td>7.7500</td>\n",
       "      <td></td>\n",
       "      <td>Q</td>\n",
       "    </tr>\n",
       "  </tbody>\n",
       "</table>\n",
       "<p>714 rows × 12 columns</p>\n",
       "</div>"
      ],
      "text/plain": [
       "     PassengerId  Survived  Pclass  \\\n",
       "0              1         0       3   \n",
       "1              2         1       1   \n",
       "2              3         1       3   \n",
       "3              4         1       1   \n",
       "4              5         0       3   \n",
       "..           ...       ...     ...   \n",
       "709          886         0       3   \n",
       "710          887         0       2   \n",
       "711          888         1       1   \n",
       "712          890         1       1   \n",
       "713          891         0       3   \n",
       "\n",
       "                                                  Name     Sex  Age  SibSp  \\\n",
       "0                              Braund, Mr. Owen Harris    male   22      1   \n",
       "1    Cumings, Mrs. John Bradley (Florence Briggs Th...  female   38      1   \n",
       "2                               Heikkinen, Miss. Laina  female   26      0   \n",
       "3         Futrelle, Mrs. Jacques Heath (Lily May Peel)  female   35      1   \n",
       "4                             Allen, Mr. William Henry    male   35      0   \n",
       "..                                                 ...     ...  ...    ...   \n",
       "709               Rice, Mrs. William (Margaret Norton)  female   39      0   \n",
       "710                              Montvila, Rev. Juozas    male   27      0   \n",
       "711                       Graham, Miss. Margaret Edith  female   19      0   \n",
       "712                              Behr, Mr. Karl Howell    male   26      0   \n",
       "713                                Dooley, Mr. Patrick    male   32      0   \n",
       "\n",
       "     Parch            Ticket     Fare Cabin Embarked  \n",
       "0        0         A/5 21171   7.2500              S  \n",
       "1        0          PC 17599  71.2833   C85        C  \n",
       "2        0  STON/O2. 3101282   7.9250              S  \n",
       "3        0            113803  53.1000  C123        S  \n",
       "4        0            373450   8.0500              S  \n",
       "..     ...               ...      ...   ...      ...  \n",
       "709      5            382652  29.1250              Q  \n",
       "710      0            211536  13.0000              S  \n",
       "711      0            112053  30.0000   B42        S  \n",
       "712      0            111369  30.0000  C148        C  \n",
       "713      0            370376   7.7500              Q  \n",
       "\n",
       "[714 rows x 12 columns]"
      ]
     },
     "execution_count": 2,
     "metadata": {},
     "output_type": "execute_result"
    }
   ],
   "source": [
    "import mysql.connector as sql\n",
    "import pandas as pd\n",
    "import matplotlib.pyplot as plt\n",
    "db_connection=sql.connect(host='localhost',database='aiml',user='root',password='123456')\n",
    "df = pd.read_sql(\"select * from train\",con=db_connection)\n",
    "df"
   ]
  },
  {
   "cell_type": "markdown",
   "id": "4e71ed9c",
   "metadata": {},
   "source": [
    "# DISPLAY TOP 5 ROWS OF THE DATASET"
   ]
  },
  {
   "cell_type": "code",
   "execution_count": 13,
   "id": "8c5ecde1",
   "metadata": {},
   "outputs": [
    {
     "name": "stdout",
     "output_type": "stream",
     "text": [
      "Top 5 rows of the dataset:\n",
      "   PassengerId  Survived  Pclass  \\\n",
      "0            1         0       3   \n",
      "1            2         1       1   \n",
      "2            3         1       3   \n",
      "3            4         1       1   \n",
      "4            5         0       3   \n",
      "\n",
      "                                                Name     Sex  Age  SibSp  \\\n",
      "0                            Braund, Mr. Owen Harris    male   22      1   \n",
      "1  Cumings, Mrs. John Bradley (Florence Briggs Th...  female   38      1   \n",
      "2                             Heikkinen, Miss. Laina  female   26      0   \n",
      "3       Futrelle, Mrs. Jacques Heath (Lily May Peel)  female   35      1   \n",
      "4                           Allen, Mr. William Henry    male   35      0   \n",
      "\n",
      "   Parch            Ticket     Fare Cabin Embarked  \n",
      "0      0         A/5 21171   7.2500              S  \n",
      "1      0          PC 17599  71.2833   C85        C  \n",
      "2      0  STON/O2. 3101282   7.9250              S  \n",
      "3      0            113803  53.1000  C123        S  \n",
      "4      0            373450   8.0500              S  \n"
     ]
    }
   ],
   "source": [
    "print(\"Top 5 rows of the dataset:\")\n",
    "print(df.head())\n"
   ]
  },
  {
   "cell_type": "markdown",
   "id": "5b4238a9",
   "metadata": {},
   "source": [
    "# CHECK LAST 3 ROWS OF THE DATASET"
   ]
  },
  {
   "cell_type": "code",
   "execution_count": 14,
   "id": "6b308189",
   "metadata": {},
   "outputs": [
    {
     "name": "stdout",
     "output_type": "stream",
     "text": [
      "\n",
      "Last 3 rows of the dataset:\n",
      "     PassengerId  Survived  Pclass                          Name     Sex  Age  \\\n",
      "711          888         1       1  Graham, Miss. Margaret Edith  female   19   \n",
      "712          890         1       1         Behr, Mr. Karl Howell    male   26   \n",
      "713          891         0       3           Dooley, Mr. Patrick    male   32   \n",
      "\n",
      "     SibSp  Parch  Ticket   Fare Cabin Embarked  \n",
      "711      0      0  112053  30.00   B42        S  \n",
      "712      0      0  111369  30.00  C148        C  \n",
      "713      0      0  370376   7.75              Q  \n"
     ]
    }
   ],
   "source": [
    "print(\"\\nLast 3 rows of the dataset:\")\n",
    "print(df.tail(3))"
   ]
  },
  {
   "cell_type": "markdown",
   "id": "f23a634c",
   "metadata": {},
   "source": [
    "# FIND SHAPE OF OUR DATASET(NUMBER OF ROWS & NUMBER OF COLUMNS)"
   ]
  },
  {
   "cell_type": "code",
   "execution_count": 15,
   "id": "dca21895",
   "metadata": {},
   "outputs": [
    {
     "name": "stdout",
     "output_type": "stream",
     "text": [
      "\n",
      "Shape of the dataset:\n",
      "(714, 12)\n"
     ]
    }
   ],
   "source": [
    "print(\"\\nShape of the dataset:\")\n",
    "print(df.shape)"
   ]
  },
  {
   "cell_type": "markdown",
   "id": "02bda623",
   "metadata": {},
   "source": [
    "# GET INFORMATION ABOUT OUR DATASET LIKE TOTAL NUMBER ROWS,TOTAL NUMBER OF COLUMNS,DATATYPE OF EACH COLUMN AND MEMORY REQUIREDMENT"
   ]
  },
  {
   "cell_type": "code",
   "execution_count": 16,
   "id": "3cf0294b",
   "metadata": {},
   "outputs": [
    {
     "name": "stdout",
     "output_type": "stream",
     "text": [
      "\n",
      "Information about the dataset:\n",
      "<class 'pandas.core.frame.DataFrame'>\n",
      "RangeIndex: 714 entries, 0 to 713\n",
      "Data columns (total 12 columns):\n",
      " #   Column       Non-Null Count  Dtype  \n",
      "---  ------       --------------  -----  \n",
      " 0   PassengerId  714 non-null    int64  \n",
      " 1   Survived     714 non-null    int64  \n",
      " 2   Pclass       714 non-null    int64  \n",
      " 3   Name         714 non-null    object \n",
      " 4   Sex          714 non-null    object \n",
      " 5   Age          714 non-null    int64  \n",
      " 6   SibSp        714 non-null    int64  \n",
      " 7   Parch        714 non-null    int64  \n",
      " 8   Ticket       714 non-null    object \n",
      " 9   Fare         714 non-null    float64\n",
      " 10  Cabin        714 non-null    object \n",
      " 11  Embarked     714 non-null    object \n",
      "dtypes: float64(1), int64(6), object(5)\n",
      "memory usage: 67.1+ KB\n",
      "None\n"
     ]
    }
   ],
   "source": [
    "print(\"\\nInformation about the dataset:\")\n",
    "print(df.info())\n"
   ]
  },
  {
   "cell_type": "markdown",
   "id": "144e4679",
   "metadata": {},
   "source": [
    "# GET OVERALL STATISTICS ABOUT THE DATAFRAME"
   ]
  },
  {
   "cell_type": "code",
   "execution_count": 17,
   "id": "06bf0937",
   "metadata": {},
   "outputs": [
    {
     "name": "stdout",
     "output_type": "stream",
     "text": [
      "\n",
      "Overall statistics about the dataset:\n",
      "       PassengerId    Survived      Pclass         Age       SibSp  \\\n",
      "count   714.000000  714.000000  714.000000  714.000000  714.000000   \n",
      "mean    448.582633    0.406162    2.236695   29.712885    0.512605   \n",
      "std     259.119524    0.491460    0.838250   14.529273    0.929783   \n",
      "min       1.000000    0.000000    1.000000    0.000000    0.000000   \n",
      "25%     222.250000    0.000000    1.000000   20.250000    0.000000   \n",
      "50%     445.000000    0.000000    2.000000   28.000000    0.000000   \n",
      "75%     677.750000    1.000000    3.000000   38.000000    1.000000   \n",
      "max     891.000000    1.000000    3.000000   80.000000    5.000000   \n",
      "\n",
      "            Parch        Fare  \n",
      "count  714.000000  714.000000  \n",
      "mean     0.431373   34.694514  \n",
      "std      0.853289   52.918930  \n",
      "min      0.000000    0.000000  \n",
      "25%      0.000000    8.050000  \n",
      "50%      0.000000   15.741700  \n",
      "75%      1.000000   33.375000  \n",
      "max      6.000000  512.329200  \n"
     ]
    }
   ],
   "source": [
    "print(\"\\nOverall statistics about the dataset:\")\n",
    "print(df.describe())\n"
   ]
  },
  {
   "cell_type": "markdown",
   "id": "f63f4a26",
   "metadata": {},
   "source": [
    "# DATA FILTERING"
   ]
  },
  {
   "cell_type": "code",
   "execution_count": 20,
   "id": "bf8de21b",
   "metadata": {},
   "outputs": [
    {
     "name": "stdout",
     "output_type": "stream",
     "text": [
      "     PassengerId  Survived  Pclass  \\\n",
      "1              2         1       1   \n",
      "3              4         1       1   \n",
      "4              5         0       3   \n",
      "5              7         0       1   \n",
      "10            12         1       1   \n",
      "..           ...       ...     ...   \n",
      "698          874         0       3   \n",
      "703          880         1       1   \n",
      "705          882         0       3   \n",
      "709          886         0       3   \n",
      "713          891         0       3   \n",
      "\n",
      "                                                  Name     Sex  Age  SibSp  \\\n",
      "1    Cumings, Mrs. John Bradley (Florence Briggs Th...  female   38      1   \n",
      "3         Futrelle, Mrs. Jacques Heath (Lily May Peel)  female   35      1   \n",
      "4                             Allen, Mr. William Henry    male   35      0   \n",
      "5                              McCarthy, Mr. Timothy J    male   54      0   \n",
      "10                            Bonnell, Miss. Elizabeth  female   58      0   \n",
      "..                                                 ...     ...  ...    ...   \n",
      "698                        Vander Cruyssen, Mr. Victor    male   47      0   \n",
      "703      Potter, Mrs. Thomas Jr (Lily Alexenia Wilson)  female   56      0   \n",
      "705                                 Markun, Mr. Johann    male   33      0   \n",
      "709               Rice, Mrs. William (Margaret Norton)  female   39      0   \n",
      "713                                Dooley, Mr. Patrick    male   32      0   \n",
      "\n",
      "     Parch    Ticket     Fare Cabin Embarked  \n",
      "1        0  PC 17599  71.2833   C85        C  \n",
      "3        0    113803  53.1000  C123        S  \n",
      "4        0    373450   8.0500              S  \n",
      "5        0     17463  51.8625   E46        S  \n",
      "10       0    113783  26.5500  C103        S  \n",
      "..     ...       ...      ...   ...      ...  \n",
      "698      0    345765   9.0000              S  \n",
      "703      1     11767  83.1583   C50        C  \n",
      "705      0    349257   7.8958              S  \n",
      "709      5    382652  29.1250              Q  \n",
      "713      0    370376   7.7500              Q  \n",
      "\n",
      "[305 rows x 12 columns]\n"
     ]
    }
   ],
   "source": [
    "filtered_data=df[df['Age']>30]\n",
    "print(filtered_data)"
   ]
  },
  {
   "cell_type": "markdown",
   "id": "029752a3",
   "metadata": {},
   "source": [
    "# CHECK NULL VALUES IN THE DATASET"
   ]
  },
  {
   "cell_type": "code",
   "execution_count": 21,
   "id": "c48da6d3",
   "metadata": {},
   "outputs": [
    {
     "name": "stdout",
     "output_type": "stream",
     "text": [
      "\n",
      "Null values in the dataset:\n",
      "PassengerId    0\n",
      "Survived       0\n",
      "Pclass         0\n",
      "Name           0\n",
      "Sex            0\n",
      "Age            0\n",
      "SibSp          0\n",
      "Parch          0\n",
      "Ticket         0\n",
      "Fare           0\n",
      "Cabin          0\n",
      "Embarked       0\n",
      "dtype: int64\n"
     ]
    }
   ],
   "source": [
    "print(\"\\nNull values in the dataset:\")\n",
    "print(df.isnull().sum())"
   ]
  },
  {
   "cell_type": "markdown",
   "id": "c54a6f7c",
   "metadata": {},
   "source": [
    "# DROP THE COLUMN"
   ]
  },
  {
   "cell_type": "code",
   "execution_count": 22,
   "id": "56ec38c5",
   "metadata": {},
   "outputs": [
    {
     "name": "stdout",
     "output_type": "stream",
     "text": [
      "     PassengerId  Survived  Pclass  \\\n",
      "0              1         0       3   \n",
      "1              2         1       1   \n",
      "2              3         1       3   \n",
      "3              4         1       1   \n",
      "4              5         0       3   \n",
      "..           ...       ...     ...   \n",
      "709          886         0       3   \n",
      "710          887         0       2   \n",
      "711          888         1       1   \n",
      "712          890         1       1   \n",
      "713          891         0       3   \n",
      "\n",
      "                                                  Name     Sex  SibSp  Parch  \\\n",
      "0                              Braund, Mr. Owen Harris    male      1      0   \n",
      "1    Cumings, Mrs. John Bradley (Florence Briggs Th...  female      1      0   \n",
      "2                               Heikkinen, Miss. Laina  female      0      0   \n",
      "3         Futrelle, Mrs. Jacques Heath (Lily May Peel)  female      1      0   \n",
      "4                             Allen, Mr. William Henry    male      0      0   \n",
      "..                                                 ...     ...    ...    ...   \n",
      "709               Rice, Mrs. William (Margaret Norton)  female      0      5   \n",
      "710                              Montvila, Rev. Juozas    male      0      0   \n",
      "711                       Graham, Miss. Margaret Edith  female      0      0   \n",
      "712                              Behr, Mr. Karl Howell    male      0      0   \n",
      "713                                Dooley, Mr. Patrick    male      0      0   \n",
      "\n",
      "               Ticket     Fare Cabin Embarked  \n",
      "0           A/5 21171   7.2500              S  \n",
      "1            PC 17599  71.2833   C85        C  \n",
      "2    STON/O2. 3101282   7.9250              S  \n",
      "3              113803  53.1000  C123        S  \n",
      "4              373450   8.0500              S  \n",
      "..                ...      ...   ...      ...  \n",
      "709            382652  29.1250              Q  \n",
      "710            211536  13.0000              S  \n",
      "711            112053  30.0000   B42        S  \n",
      "712            111369  30.0000  C148        C  \n",
      "713            370376   7.7500              Q  \n",
      "\n",
      "[714 rows x 11 columns]\n"
     ]
    }
   ],
   "source": [
    "df.drop(columns=['Age'], inplace=True)\n",
    "print(df)\n"
   ]
  },
  {
   "cell_type": "markdown",
   "id": "9e1f7777",
   "metadata": {},
   "source": [
    "# HANDLE MISSING VALUES"
   ]
  },
  {
   "cell_type": "code",
   "execution_count": 23,
   "id": "922475c4",
   "metadata": {},
   "outputs": [
    {
     "name": "stdout",
     "output_type": "stream",
     "text": [
      "DataFrame after handling missing values:\n",
      "     PassengerId  Survived  Pclass  \\\n",
      "0              1         0       3   \n",
      "1              2         1       1   \n",
      "2              3         1       3   \n",
      "3              4         1       1   \n",
      "4              5         0       3   \n",
      "..           ...       ...     ...   \n",
      "709          886         0       3   \n",
      "710          887         0       2   \n",
      "711          888         1       1   \n",
      "712          890         1       1   \n",
      "713          891         0       3   \n",
      "\n",
      "                                                  Name     Sex  SibSp  Parch  \\\n",
      "0                              Braund, Mr. Owen Harris    male      1      0   \n",
      "1    Cumings, Mrs. John Bradley (Florence Briggs Th...  female      1      0   \n",
      "2                               Heikkinen, Miss. Laina  female      0      0   \n",
      "3         Futrelle, Mrs. Jacques Heath (Lily May Peel)  female      1      0   \n",
      "4                             Allen, Mr. William Henry    male      0      0   \n",
      "..                                                 ...     ...    ...    ...   \n",
      "709               Rice, Mrs. William (Margaret Norton)  female      0      5   \n",
      "710                              Montvila, Rev. Juozas    male      0      0   \n",
      "711                       Graham, Miss. Margaret Edith  female      0      0   \n",
      "712                              Behr, Mr. Karl Howell    male      0      0   \n",
      "713                                Dooley, Mr. Patrick    male      0      0   \n",
      "\n",
      "               Ticket     Fare Cabin Embarked  \n",
      "0           A/5 21171   7.2500              S  \n",
      "1            PC 17599  71.2833   C85        C  \n",
      "2    STON/O2. 3101282   7.9250              S  \n",
      "3              113803  53.1000  C123        S  \n",
      "4              373450   8.0500              S  \n",
      "..                ...      ...   ...      ...  \n",
      "709            382652  29.1250              Q  \n",
      "710            211536  13.0000              S  \n",
      "711            112053  30.0000   B42        S  \n",
      "712            111369  30.0000  C148        C  \n",
      "713            370376   7.7500              Q  \n",
      "\n",
      "[714 rows x 11 columns]\n"
     ]
    },
    {
     "name": "stderr",
     "output_type": "stream",
     "text": [
      "C:\\Users\\soubh\\AppData\\Local\\Temp\\ipykernel_16916\\2936163218.py:1: FutureWarning: Dropping of nuisance columns in DataFrame reductions (with 'numeric_only=None') is deprecated; in a future version this will raise TypeError.  Select only valid columns before calling the reduction.\n",
      "  df.fillna(df.mean(), inplace=True)\n"
     ]
    }
   ],
   "source": [
    "df.fillna(df.mean(), inplace=True)\n",
    "print(\"DataFrame after handling missing values:\")\n",
    "print(df)"
   ]
  },
  {
   "cell_type": "markdown",
   "id": "900a98b2",
   "metadata": {},
   "source": [
    "# CATEGORICAL DATA ENCODING"
   ]
  },
  {
   "cell_type": "code",
   "execution_count": 24,
   "id": "9a988e5d",
   "metadata": {},
   "outputs": [
    {
     "name": "stdout",
     "output_type": "stream",
     "text": [
      "\n",
      "DataFrame after categorical data encoding:\n",
      "     PassengerId  Survived  Pclass  SibSp  Parch     Fare  \\\n",
      "0              1         0       3      1      0   7.2500   \n",
      "1              2         1       1      1      0  71.2833   \n",
      "2              3         1       3      0      0   7.9250   \n",
      "3              4         1       1      1      0  53.1000   \n",
      "4              5         0       3      0      0   8.0500   \n",
      "..           ...       ...     ...    ...    ...      ...   \n",
      "709          886         0       3      0      5  29.1250   \n",
      "710          887         0       2      0      0  13.0000   \n",
      "711          888         1       1      0      0  30.0000   \n",
      "712          890         1       1      0      0  30.0000   \n",
      "713          891         0       3      0      0   7.7500   \n",
      "\n",
      "     Name_Abbing, Mr. Anthony  Name_Abbott, Mr. Rossmore Edward  \\\n",
      "0                           0                                 0   \n",
      "1                           0                                 0   \n",
      "2                           0                                 0   \n",
      "3                           0                                 0   \n",
      "4                           0                                 0   \n",
      "..                        ...                               ...   \n",
      "709                         0                                 0   \n",
      "710                         0                                 0   \n",
      "711                         0                                 0   \n",
      "712                         0                                 0   \n",
      "713                         0                                 0   \n",
      "\n",
      "     Name_Abbott, Mrs. Stanton (Rosa Hunt)  Name_Abelson, Mr. Samuel  ...  \\\n",
      "0                                        0                         0  ...   \n",
      "1                                        0                         0  ...   \n",
      "2                                        0                         0  ...   \n",
      "3                                        0                         0  ...   \n",
      "4                                        0                         0  ...   \n",
      "..                                     ...                       ...  ...   \n",
      "709                                      0                         0  ...   \n",
      "710                                      0                         0  ...   \n",
      "711                                      0                         0  ...   \n",
      "712                                      0                         0  ...   \n",
      "713                                      0                         0  ...   \n",
      "\n",
      "     Cabin_F G73  Cabin_F2  Cabin_F33  Cabin_F4  Cabin_G6  Cabin_T  Embarked_  \\\n",
      "0              0         0          0         0         0        0          0   \n",
      "1              0         0          0         0         0        0          0   \n",
      "2              0         0          0         0         0        0          0   \n",
      "3              0         0          0         0         0        0          0   \n",
      "4              0         0          0         0         0        0          0   \n",
      "..           ...       ...        ...       ...       ...      ...        ...   \n",
      "709            0         0          0         0         0        0          0   \n",
      "710            0         0          0         0         0        0          0   \n",
      "711            0         0          0         0         0        0          0   \n",
      "712            0         0          0         0         0        0          0   \n",
      "713            0         0          0         0         0        0          0   \n",
      "\n",
      "     Embarked_C  Embarked_Q  Embarked_S  \n",
      "0             0           0           1  \n",
      "1             1           0           0  \n",
      "2             0           0           1  \n",
      "3             0           0           1  \n",
      "4             0           0           1  \n",
      "..          ...         ...         ...  \n",
      "709           0           1           0  \n",
      "710           0           0           1  \n",
      "711           0           0           1  \n",
      "712           1           0           0  \n",
      "713           0           1           0  \n",
      "\n",
      "[714 rows x 1403 columns]\n"
     ]
    }
   ],
   "source": [
    "df_encoded = pd.get_dummies(df)\n",
    "print(\"\\nDataFrame after categorical data encoding:\")\n",
    "print(df_encoded)\n"
   ]
  },
  {
   "cell_type": "markdown",
   "id": "c6321275",
   "metadata": {},
   "source": [
    "# WHAT IS UNIVARIATE ANALYSIS"
   ]
  },
  {
   "cell_type": "code",
   "execution_count": 25,
   "id": "8a0a8760",
   "metadata": {},
   "outputs": [
    {
     "name": "stdout",
     "output_type": "stream",
     "text": [
      "\n",
      "Overview of numerical columns:\n",
      "       PassengerId    Survived      Pclass       SibSp       Parch        Fare\n",
      "count   714.000000  714.000000  714.000000  714.000000  714.000000  714.000000\n",
      "mean    448.582633    0.406162    2.236695    0.512605    0.431373   34.694514\n",
      "std     259.119524    0.491460    0.838250    0.929783    0.853289   52.918930\n",
      "min       1.000000    0.000000    1.000000    0.000000    0.000000    0.000000\n",
      "25%     222.250000    0.000000    1.000000    0.000000    0.000000    8.050000\n",
      "50%     445.000000    0.000000    2.000000    0.000000    0.000000   15.741700\n",
      "75%     677.750000    1.000000    3.000000    1.000000    1.000000   33.375000\n",
      "max     891.000000    1.000000    3.000000    5.000000    6.000000  512.329200\n"
     ]
    }
   ],
   "source": [
    "print(\"\\nOverview of numerical columns:\")\n",
    "print(df.describe())"
   ]
  },
  {
   "cell_type": "markdown",
   "id": "ef1eb764",
   "metadata": {},
   "source": [
    "# HOW MANY PEOPLE SURVIVED AND HOW MANY DIED PLOT ON GRAPH"
   ]
  },
  {
   "cell_type": "code",
   "execution_count": 27,
   "id": "dd5a3c1c",
   "metadata": {},
   "outputs": [
    {
     "name": "stdout",
     "output_type": "stream",
     "text": [
      "\n",
      "Survival Counts:\n",
      "0    424\n",
      "1    290\n",
      "Name: Survived, dtype: int64\n"
     ]
    },
    {
     "data": {
      "image/png": "[encoded data removed]",
      "text/plain": [
       "<Figure size 640x480 with 1 Axes>"
      ]
     },
     "metadata": {},
     "output_type": "display_data"
    }
   ],
   "source": [
    "survived_counts = df['Survived'].value_counts()\n",
    "print(\"\\nSurvival Counts:\")\n",
    "print(survived_counts)\n",
    "survived_counts.plot(kind='bar', title='Survival Counts')\n",
    "plt.xlabel(1)\n",
    "plt.ylabel('Count')\n",
    "plt.show()"
   ]
  },
  {
   "cell_type": "markdown",
   "id": "21b502ea",
   "metadata": {},
   "source": [
    "# HOW MANY PASSENGERS WERE IN FIRST CLASS,SECOND CLASS AND THIRD CLASS PLOT THOSE FIGURES ON GRAPH"
   ]
  },
  {
   "cell_type": "code",
   "execution_count": 28,
   "id": "9bedee40",
   "metadata": {},
   "outputs": [
    {
     "name": "stdout",
     "output_type": "stream",
     "text": [
      "\n",
      "Passenger Class Counts:\n",
      "3    355\n",
      "1    186\n",
      "2    173\n",
      "Name: Pclass, dtype: int64\n"
     ]
    },
    {
     "data": {
      "image/png": "[encoded data removed]",
      "text/plain": [
       "<Figure size 640x480 with 1 Axes>"
      ]
     },
     "metadata": {},
     "output_type": "display_data"
    }
   ],
   "source": [
    "passenger_class_counts = df['Pclass'].value_counts()\n",
    "print(\"\\nPassenger Class Counts:\")\n",
    "print(passenger_class_counts)\n",
    "passenger_class_counts.plot(kind='bar', title='Passenger Class Counts')\n",
    "plt.xlabel('Passenger Class')\n",
    "plt.ylabel('Count')\n",
    "plt.show()"
   ]
  },
  {
   "cell_type": "markdown",
   "id": "d80bb1eb",
   "metadata": {},
   "source": [
    "# NUMBER  OF MALE AND FEMALE PASSANGERS"
   ]
  },
  {
   "cell_type": "code",
   "execution_count": 30,
   "id": "e402f086",
   "metadata": {},
   "outputs": [
    {
     "data": {
      "image/png": "[encoded data removed]",
      "text/plain": [
       "<Figure size 800x600 with 1 Axes>"
      ]
     },
     "metadata": {},
     "output_type": "display_data"
    }
   ],
   "source": [
    "gender_counts = df['Sex'].value_counts()\n",
    "plt.figure(figsize=(8, 6))\n",
    "gender_counts.plot(kind='bar', color=['blue', 'pink'])\n",
    "plt.title('Count of Male and Female Passengers')\n",
    "plt.xlabel('Sex')\n",
    "plt.ylabel('Count')\n",
    "plt.xticks(rotation=0)\n",
    "plt.show()"
   ]
  },
  {
   "cell_type": "markdown",
   "id": "ae992038",
   "metadata": {},
   "source": [
    "# BIVARIANT ANALSIS"
   ]
  },
  {
   "cell_type": "markdown",
   "id": "9bf3c670",
   "metadata": {},
   "source": [
    "# HOW HAS BETTER CHANCE OF SURVIVAL MALE OR FEMALE"
   ]
  },
  {
   "cell_type": "code",
   "execution_count": 32,
   "id": "43ee171f",
   "metadata": {},
   "outputs": [
    {
     "name": "stdout",
     "output_type": "stream",
     "text": [
      "\n",
      "Survival Rate by Gender:\n",
      "Sex\n",
      "female    0.754789\n",
      "male      0.205298\n",
      "Name: Survived, dtype: float64\n"
     ]
    },
    {
     "data": {
      "image/png": "[encoded data removed]",
      "text/plain": [
       "<Figure size 640x480 with 1 Axes>"
      ]
     },
     "metadata": {},
     "output_type": "display_data"
    }
   ],
   "source": [
    "survival_by_gender = df.groupby('Sex')['Survived'].mean()\n",
    "print(\"\\nSurvival Rate by Gender:\")\n",
    "print(survival_by_gender)\n",
    "survival_by_gender.plot(kind='bar', color=['pink', 'blue'])\n",
    "plt.title('Survival Rate by Gender')\n",
    "plt.xlabel('Gender')\n",
    "plt.ylabel('Survival Rate')\n",
    "plt.xticks(rotation=0)\n",
    "plt.show()\n",
    "\n"
   ]
  },
  {
   "cell_type": "markdown",
   "id": "4aa71181",
   "metadata": {},
   "source": [
    "# WHICH PASSENGER CLASS HAS BETTER CHANCE OF SURVIVAL(FIRST,SECOND,OR THIRD CLASS)?"
   ]
  },
  {
   "cell_type": "code",
   "execution_count": 33,
   "id": "2ba81e0b",
   "metadata": {},
   "outputs": [
    {
     "name": "stdout",
     "output_type": "stream",
     "text": [
      "\n",
      "Survival Rate by Passenger Class:\n",
      "Pclass\n",
      "1    0.655914\n",
      "2    0.479769\n",
      "3    0.239437\n",
      "Name: Survived, dtype: float64\n"
     ]
    },
    {
     "data": {
      "image/png": "[encoded data removed]",
      "text/plain": [
       "<Figure size 640x480 with 1 Axes>"
      ]
     },
     "metadata": {},
     "output_type": "display_data"
    }
   ],
   "source": [
    "survival_by_class = df.groupby('Pclass')['Survived'].mean()\n",
    "print(\"\\nSurvival Rate by Passenger Class:\")\n",
    "print(survival_by_class)\n",
    "survival_by_class.plot(kind='bar', color='green')\n",
    "plt.title('Survival Rate by Passenger Class')\n",
    "plt.xlabel('Passenger Class')\n",
    "plt.ylabel('Survival Rate')\n",
    "plt.xticks(rotation=0)\n",
    "plt.show()\n"
   ]
  },
  {
   "cell_type": "markdown",
   "id": "6aa2b413",
   "metadata": {},
   "source": [
    "# FEATURE ENGINEERING"
   ]
  },
  {
   "cell_type": "code",
   "execution_count": 43,
   "id": "b7e903ce",
   "metadata": {},
   "outputs": [
    {
     "name": "stdout",
     "output_type": "stream",
     "text": [
      "     PassengerId  Survived  Pclass  \\\n",
      "0              1         0       3   \n",
      "1              2         1       1   \n",
      "2              3         1       3   \n",
      "3              4         1       1   \n",
      "4              5         0       3   \n",
      "..           ...       ...     ...   \n",
      "709          886         0       3   \n",
      "710          887         0       2   \n",
      "711          888         1       1   \n",
      "712          890         1       1   \n",
      "713          891         0       3   \n",
      "\n",
      "                                                  Name     Sex  SibSp  Parch  \\\n",
      "0                              Braund, Mr. Owen Harris    male      1      0   \n",
      "1    Cumings, Mrs. John Bradley (Florence Briggs Th...  female      1      0   \n",
      "2                               Heikkinen, Miss. Laina  female      0      0   \n",
      "3         Futrelle, Mrs. Jacques Heath (Lily May Peel)  female      1      0   \n",
      "4                             Allen, Mr. William Henry    male      0      0   \n",
      "..                                                 ...     ...    ...    ...   \n",
      "709               Rice, Mrs. William (Margaret Norton)  female      0      5   \n",
      "710                              Montvila, Rev. Juozas    male      0      0   \n",
      "711                       Graham, Miss. Margaret Edith  female      0      0   \n",
      "712                              Behr, Mr. Karl Howell    male      0      0   \n",
      "713                                Dooley, Mr. Patrick    male      0      0   \n",
      "\n",
      "               Ticket     Fare Cabin Embarked  total_family_members  \n",
      "0           A/5 21171   7.2500              S                     1  \n",
      "1            PC 17599  71.2833   C85        C                     1  \n",
      "2    STON/O2. 3101282   7.9250              S                     0  \n",
      "3              113803  53.1000  C123        S                     1  \n",
      "4              373450   8.0500              S                     0  \n",
      "..                ...      ...   ...      ...                   ...  \n",
      "709            382652  29.1250              Q                     5  \n",
      "710            211536  13.0000              S                     0  \n",
      "711            112053  30.0000   B42        S                     0  \n",
      "712            111369  30.0000  C148        C                     0  \n",
      "713            370376   7.7500              Q                     0  \n",
      "\n",
      "[714 rows x 12 columns]\n"
     ]
    }
   ],
   "source": [
    "df['total_family_members'] = df['SibSp'] + df['Parch']\n",
    "print(df)\n",
    "\n"
   ]
  },
  {
   "cell_type": "code",
   "execution_count": null,
   "id": "8ad7808b",
   "metadata": {},
   "outputs": [],
   "source": []
  }
 ],
 "metadata": {
  "kernelspec": {
   "display_name": "Python 3 (ipykernel)",
   "language": "python",
   "name": "python3"
  },
  "language_info": {
   "codemirror_mode": {
    "name": "ipython",
    "version": 3
   },
   "file_extension": ".py",
   "mimetype": "text/x-python",
   "name": "python",
   "nbconvert_exporter": "python",
   "pygments_lexer": "ipython3",
   "version": "3.9.12"
  },
  "varInspector": {
   "cols": {
    "lenName": 16,
    "lenType": 16,
    "lenVar": 40
   },
   "kernels_config": {
    "python": {
     "delete_cmd_postfix": "",
     "delete_cmd_prefix": "del ",
     "library": "var_list.py",
     "varRefreshCmd": "print(var_dic_list())"
    },
    "r": {
     "delete_cmd_postfix": ") ",
     "delete_cmd_prefix": "rm(",
     "library": "var_list.r",
     "varRefreshCmd": "cat(var_dic_list()) "
    }
   },
   "types_to_exclude": [
    "module",
    "function",
    "builtin_function_or_method",
    "instance",
    "_Feature"
   ],
   "window_display": false
  }
 },
 "nbformat": 4,
 "nbformat_minor": 5
}
