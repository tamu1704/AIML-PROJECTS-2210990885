{
 "cells": [
  {
   "cell_type": "code",
   "execution_count": 2,
   "id": "17787715",
   "metadata": {},
   "outputs": [
    {
     "name": "stdout",
     "output_type": "stream",
     "text": [
      "   Courses    Fee Duration Discount\n",
      "0    SPARK  22000   30days     1000\n",
      "1  PYSPARK  25000   50days     2300\n",
      "2   HADOOP  24000   40days     2500\n",
      "3   PANDAS  26000   60days     1400\n"
     ]
    }
   ],
   "source": [
    "import pandas as pd\n",
    "import numpy as np\n",
    "technologies= ({\n",
    "    'Courses':[\"SPARK\",\"PYSPARK\",\"HADOOP\",\"PANDAS\"],\n",
    "    'Fee' :['22000','25000','24000','26000'],\n",
    "    'Duration':['30days','50days','40days','60days'],\n",
    "    'Discount':['1000','2300','2500','1400']\n",
    "              })\n",
    "gem = pd.DataFrame(technologies)\n",
    "print(gem)"
   ]
  },
  {
   "cell_type": "markdown",
   "id": "e3e970ee",
   "metadata": {},
   "source": [
    "# str.lower()"
   ]
  },
  {
   "cell_type": "code",
   "execution_count": 3,
   "id": "5634005c",
   "metadata": {},
   "outputs": [
    {
     "name": "stdout",
     "output_type": "stream",
     "text": [
      "   Courses    Fee Duration Discount\n",
      "0    spark  22000   30days     1000\n",
      "1  pyspark  25000   50days     2300\n",
      "2   hadoop  24000   40days     2500\n",
      "3   pandas  26000   60days     1400\n"
     ]
    }
   ],
   "source": [
    "# convert lowercase column use str.lower()\n",
    "gem['Courses'] = gem['Courses'].str.lower()\n",
    "print(gem)"
   ]
  },
  {
   "cell_type": "code",
   "execution_count": 4,
   "id": "c3c4d9f0",
   "metadata": {},
   "outputs": [
    {
     "name": "stdout",
     "output_type": "stream",
     "text": [
      "   Courses    Fee Duration Discount\n",
      "0    spark  22000   30days     1000\n",
      "1  pyspark  25000   50days     2300\n",
      "2   hadoop  24000   40days     2500\n",
      "3   pandas  26000   60days     1400\n"
     ]
    }
   ],
   "source": [
    "# convert lowercase column use apply()\n",
    "gem['Courses'] = gem['Courses'].apply(str.lower)\n",
    "print(gem)"
   ]
  },
  {
   "cell_type": "code",
   "execution_count": 5,
   "id": "12db03d4",
   "metadata": {},
   "outputs": [
    {
     "name": "stdout",
     "output_type": "stream",
     "text": [
      "   Courses    Fee Duration Discount\n",
      "0    spark  22000   30days     1000\n",
      "1  pyspark  25000   50days     2300\n",
      "2   hadoop  24000   40days     2500\n",
      "3   pandas  26000   60days     1400\n"
     ]
    }
   ],
   "source": [
    "# Use apply() & lambda function\n",
    "gem['Courses'].apply(lambda x: x.lower())\n",
    "print(gem)"
   ]
  },
  {
   "cell_type": "code",
   "execution_count": 11,
   "id": "ee146736",
   "metadata": {},
   "outputs": [
    {
     "name": "stdout",
     "output_type": "stream",
     "text": [
      "   Courses    Fee Duration Discount\n",
      "0    spark  22000   30DAYS     1000\n",
      "1  pyspark  25000   50DAYS     2300\n",
      "2   hadoop  24000   40DAYS     2500\n",
      "3   pandas  26000   60DAYS     1400\n"
     ]
    }
   ],
   "source": [
    "# Convert pandas column to lowercase use map()\n",
    "gem['Courses'] = gem['Courses'].map(str.lower)\n",
    "print(gem)"
   ]
  },
  {
   "cell_type": "markdown",
   "id": "956d33dd",
   "metadata": {},
   "source": [
    "# str.upper()"
   ]
  },
  {
   "cell_type": "code",
   "execution_count": 12,
   "id": "f5171525",
   "metadata": {},
   "outputs": [
    {
     "name": "stdout",
     "output_type": "stream",
     "text": [
      "   Courses    Fee Duration Discount\n",
      "0    spark  22000   30DAYS     1000\n",
      "1  pyspark  25000   50DAYS     2300\n",
      "2   hadoop  24000   40DAYS     2500\n",
      "3   pandas  26000   60DAYS     1400\n"
     ]
    }
   ],
   "source": [
    "# convert uppercase column use str.upper()\n",
    "gem['Duration'] = gem['Duration'].str.upper()\n",
    "print(gem)"
   ]
  },
  {
   "cell_type": "code",
   "execution_count": 13,
   "id": "2afa4801",
   "metadata": {},
   "outputs": [
    {
     "name": "stdout",
     "output_type": "stream",
     "text": [
      "   Courses    Fee Duration Discount\n",
      "0    spark  22000   30DAYS     1000\n",
      "1  pyspark  25000   50DAYS     2300\n",
      "2   hadoop  24000   40DAYS     2500\n",
      "3   pandas  26000   60DAYS     1400\n"
     ]
    }
   ],
   "source": [
    "# convert uppercase column use apply()\n",
    "gem['Duration'] = gem['Duration'].apply(str.upper)\n",
    "print(gem)"
   ]
  },
  {
   "cell_type": "code",
   "execution_count": 14,
   "id": "1ce40818",
   "metadata": {},
   "outputs": [
    {
     "name": "stdout",
     "output_type": "stream",
     "text": [
      "   Courses    Fee Duration Discount\n",
      "0    spark  22000   30DAYS     1000\n",
      "1  pyspark  25000   50DAYS     2300\n",
      "2   hadoop  24000   40DAYS     2500\n",
      "3   pandas  26000   60DAYS     1400\n"
     ]
    }
   ],
   "source": [
    "# Use apply() & lambda function\n",
    "gem['Duration'].apply(lambda x: x.upper())\n",
    "print(gem)"
   ]
  },
  {
   "cell_type": "code",
   "execution_count": 16,
   "id": "76dd8b5d",
   "metadata": {},
   "outputs": [
    {
     "name": "stdout",
     "output_type": "stream",
     "text": [
      "   Courses    Fee Duration Discount\n",
      "0    spark  22000   30DAYS     1000\n",
      "1  pyspark  25000   50DAYS     2300\n",
      "2   hadoop  24000   40DAYS     2500\n",
      "3   pandas  26000   60DAYS     1400\n"
     ]
    }
   ],
   "source": [
    "# Convert pandas column to uppercase use map()\n",
    "gem['Duration'] = gem['Duration'].map(str.upper)\n",
    "print(gem)"
   ]
  },
  {
   "cell_type": "markdown",
   "id": "990ffea3",
   "metadata": {},
   "source": [
    "# str.length()"
   ]
  },
  {
   "cell_type": "code",
   "execution_count": 17,
   "id": "1a23763c",
   "metadata": {},
   "outputs": [],
   "source": [
    "import pandas as pd\n",
    "\n",
    "data = pd.DataFrame({\n",
    "\n",
    "    'age' : [15, 17, 20, 14, 25],\n",
    "\n",
    "    'name': [\"Sample\", \"New User\", \"My Name\", \"Jane Doe\", \"John Doe\"]\n",
    "\n",
    "})"
   ]
  },
  {
   "cell_type": "code",
   "execution_count": 18,
   "id": "4e3fe83c",
   "metadata": {},
   "outputs": [
    {
     "data": {
      "text/plain": [
       "0    6\n",
       "1    8\n",
       "2    7\n",
       "3    8\n",
       "4    8\n",
       "Name: name, dtype: int64"
      ]
     },
     "execution_count": 18,
     "metadata": {},
     "output_type": "execute_result"
    }
   ],
   "source": [
    "data['name'].str.len()"
   ]
  },
  {
   "cell_type": "markdown",
   "id": "2e86a4e1",
   "metadata": {},
   "source": [
    "# str.strip()"
   ]
  },
  {
   "cell_type": "code",
   "execution_count": 19,
   "id": "a78f8d2a",
   "metadata": {},
   "outputs": [
    {
     "data": {
      "text/plain": [
       "0    1. Bat.\n",
       "1    2. Dog!\n",
       "2    3. fox?\n",
       "3        NaN\n",
       "dtype: object"
      ]
     },
     "execution_count": 19,
     "metadata": {},
     "output_type": "execute_result"
    }
   ],
   "source": [
    "import numpy as np\n",
    "import pandas as pd\n",
    "s = pd.Series(['1. Bat.  ', '2. Dog!\\n', '3. fox?\\t', np.nan])\n",
    "s.str.strip()"
   ]
  },
  {
   "cell_type": "code",
   "execution_count": null,
   "id": "c780357a",
   "metadata": {},
   "outputs": [],
   "source": []
  },
  {
   "cell_type": "code",
   "execution_count": null,
   "id": "807980ce",
   "metadata": {},
   "outputs": [],
   "source": []
  },
  {
   "cell_type": "code",
   "execution_count": null,
   "id": "eda1d52d",
   "metadata": {},
   "outputs": [],
   "source": []
  },
  {
   "cell_type": "code",
   "execution_count": null,
   "id": "0561bc7d",
   "metadata": {},
   "outputs": [],
   "source": []
  },
  {
   "cell_type": "markdown",
   "id": "af312a0b",
   "metadata": {},
   "source": [
    "# str.split()"
   ]
  },
  {
   "cell_type": "code",
   "execution_count": 20,
   "id": "ba097eef",
   "metadata": {},
   "outputs": [
    {
     "data": {
      "text/plain": [
       "0                         [this, is, my, new, pen]\n",
       "1    [https://www.w3resource.com/pandas/index.php]\n",
       "2                                              NaN\n",
       "dtype: object"
      ]
     },
     "execution_count": 20,
     "metadata": {},
     "output_type": "execute_result"
    }
   ],
   "source": [
    "import numpy as np\n",
    "import pandas as pd\n",
    "s = pd.Series([\"this is my new pen\",\n",
    "               \"https://www.w3resource.com/pandas/index.php\",\n",
    "               np.nan])\n",
    "s.str.split()"
   ]
  },
  {
   "cell_type": "markdown",
   "id": "923874bc",
   "metadata": {},
   "source": [
    "# str.contains()"
   ]
  },
  {
   "cell_type": "code",
   "execution_count": 22,
   "id": "005bfc17",
   "metadata": {},
   "outputs": [
    {
     "data": {
      "text/plain": [
       "0    False\n",
       "1     True\n",
       "2      NaN\n",
       "dtype: object"
      ]
     },
     "execution_count": 22,
     "metadata": {},
     "output_type": "execute_result"
    }
   ],
   "source": [
    "import numpy as np\n",
    "import pandas as pd\n",
    "s = pd.Series([\"this is my new pen\",\n",
    "               \"https://www.w3resource.com/pandas/index.php\",\n",
    "               np.nan])\n",
    "s.str.contains('d')"
   ]
  },
  {
   "cell_type": "markdown",
   "id": "05fb4157",
   "metadata": {},
   "source": [
    "# str.replace()"
   ]
  },
  {
   "cell_type": "code",
   "execution_count": 23,
   "id": "230ef680",
   "metadata": {},
   "outputs": [
    {
     "data": {
      "text/plain": [
       "0                             this is yy new pen\n",
       "1    https://www.w3resource.coy/pandas/index.php\n",
       "2                                            NaN\n",
       "dtype: object"
      ]
     },
     "execution_count": 23,
     "metadata": {},
     "output_type": "execute_result"
    }
   ],
   "source": [
    "s.str.replace('m','y')"
   ]
  },
  {
   "cell_type": "markdown",
   "id": "fd726660",
   "metadata": {},
   "source": [
    "# str.startswith()"
   ]
  },
  {
   "cell_type": "code",
   "execution_count": 24,
   "id": "133bf777",
   "metadata": {},
   "outputs": [
    {
     "data": {
      "text/plain": [
       "0     True\n",
       "1    False\n",
       "2      NaN\n",
       "dtype: object"
      ]
     },
     "execution_count": 24,
     "metadata": {},
     "output_type": "execute_result"
    }
   ],
   "source": [
    "s.str.startswith('thi')"
   ]
  },
  {
   "cell_type": "markdown",
   "id": "afec2a52",
   "metadata": {},
   "source": [
    "# str.endswith()"
   ]
  },
  {
   "cell_type": "code",
   "execution_count": 25,
   "id": "c5b38093",
   "metadata": {},
   "outputs": [
    {
     "data": {
      "text/plain": [
       "0    False\n",
       "1     True\n",
       "2      NaN\n",
       "dtype: object"
      ]
     },
     "execution_count": 25,
     "metadata": {},
     "output_type": "execute_result"
    }
   ],
   "source": [
    "s.str.endswith('hp')"
   ]
  },
  {
   "cell_type": "markdown",
   "id": "3bec7f9c",
   "metadata": {},
   "source": [
    "# str.cat()"
   ]
  },
  {
   "cell_type": "code",
   "execution_count": 27,
   "id": "af78e1d5",
   "metadata": {},
   "outputs": [
    {
     "name": "stdout",
     "output_type": "stream",
     "text": [
      "   Courses    Fee Duration Discount\n",
      "0    SPARK  22000   30days     1000\n",
      "1  PYSPARK  25000   50days     2300\n",
      "2   HADOOP  24000   40days     2500\n",
      "3   PANDAS  26000   60days     1400\n"
     ]
    }
   ],
   "source": [
    "import pandas as pd\n",
    "import numpy as np\n",
    "technologies= ({\n",
    "    'Courses':[\"SPARK\",\"PYSPARK\",\"HADOOP\",\"PANDAS\"],\n",
    "    'Fee' :['22000','25000','24000','26000'],\n",
    "    'Duration':['30days','50days','40days','60days'],\n",
    "    'Discount':['1000','2300','2500','1400']\n",
    "              })\n",
    "gem = pd.DataFrame(technologies)\n",
    "print(gem)"
   ]
  },
  {
   "cell_type": "code",
   "execution_count": 32,
   "id": "804b0e6e",
   "metadata": {},
   "outputs": [
    {
     "name": "stdout",
     "output_type": "stream",
     "text": [
      "   Courses    Fee Duration Discount    concatenated\n",
      "0    SPARK  22000   30days     1000    SPARK-30days\n",
      "1  PYSPARK  25000   50days     2300  PYSPARK-50days\n",
      "2   HADOOP  24000   40days     2500   HADOOP-40days\n",
      "3   PANDAS  26000   60days     1400   PANDAS-60days\n"
     ]
    }
   ],
   "source": [
    "gem['concatenated']=gem['Courses'].str.cat(gem['Duration'], sep='-')\n",
    "print(gem)"
   ]
  },
  {
   "cell_type": "code",
   "execution_count": 33,
   "id": "aec3ef14",
   "metadata": {},
   "outputs": [
    {
     "data": {
      "text/plain": [
       "0      SPARK-30days\n",
       "1    PYSPARK-50days\n",
       "2     HADOOP-40days\n",
       "3     PANDAS-60days\n",
       "Name: Courses, dtype: object"
      ]
     },
     "execution_count": 33,
     "metadata": {},
     "output_type": "execute_result"
    }
   ],
   "source": [
    "gem['Courses'].str.cat(gem['Duration'], sep='-')"
   ]
  },
  {
   "cell_type": "markdown",
   "id": "0ef3b772",
   "metadata": {},
   "source": [
    "# str.get()"
   ]
  },
  {
   "cell_type": "code",
   "execution_count": 34,
   "id": "77c172df",
   "metadata": {},
   "outputs": [
    {
     "data": {
      "text/plain": [
       "0    A\n",
       "1    S\n",
       "2    D\n",
       "3    N\n",
       "Name: Courses, dtype: object"
      ]
     },
     "execution_count": 34,
     "metadata": {},
     "output_type": "execute_result"
    }
   ],
   "source": [
    "gem['Courses'].str.get(2)"
   ]
  },
  {
   "cell_type": "markdown",
   "id": "764c2e70",
   "metadata": {},
   "source": [
    "# str.slice()"
   ]
  },
  {
   "cell_type": "code",
   "execution_count": 35,
   "id": "3885072c",
   "metadata": {},
   "outputs": [
    {
     "data": {
      "text/plain": [
       "0    PAR\n",
       "1    YSP\n",
       "2    ADO\n",
       "3    AND\n",
       "Name: Courses, dtype: object"
      ]
     },
     "execution_count": 35,
     "metadata": {},
     "output_type": "execute_result"
    }
   ],
   "source": [
    "gem['Courses'].str.slice(1, 4)"
   ]
  },
  {
   "cell_type": "code",
   "execution_count": 36,
   "id": "3494b189",
   "metadata": {},
   "outputs": [
    {
     "data": {
      "text/plain": [
       "0      ARK\n",
       "1    SPARK\n",
       "2     DOOP\n",
       "3     NDAS\n",
       "Name: Courses, dtype: object"
      ]
     },
     "execution_count": 36,
     "metadata": {},
     "output_type": "execute_result"
    }
   ],
   "source": [
    "gem['Courses'].str.slice(2)"
   ]
  },
  {
   "cell_type": "markdown",
   "id": "8c2a2baa",
   "metadata": {},
   "source": [
    "# str.find()"
   ]
  },
  {
   "cell_type": "code",
   "execution_count": 38,
   "id": "ed2201f0",
   "metadata": {},
   "outputs": [
    {
     "data": {
      "text/plain": [
       "0    2\n",
       "1    4\n",
       "2   -1\n",
       "3   -1\n",
       "Name: Courses, dtype: int64"
      ]
     },
     "execution_count": 38,
     "metadata": {},
     "output_type": "execute_result"
    }
   ],
   "source": [
    "gem['Courses'].str.find('AR')"
   ]
  },
  {
   "cell_type": "code",
   "execution_count": null,
   "id": "5db53205",
   "metadata": {},
   "outputs": [],
   "source": []
  },
  {
   "cell_type": "code",
   "execution_count": null,
   "id": "9ce0cd3c",
   "metadata": {},
   "outputs": [],
   "source": []
  }
 ],
 "metadata": {
  "kernelspec": {
   "display_name": "Python 3 (ipykernel)",
   "language": "python",
   "name": "python3"
  },
  "language_info": {
   "codemirror_mode": {
    "name": "ipython",
    "version": 3
   },
   "file_extension": ".py",
   "mimetype": "text/x-python",
   "name": "python",
   "nbconvert_exporter": "python",
   "pygments_lexer": "ipython3",
   "version": "3.9.12"
  }
 },
 "nbformat": 4,
 "nbformat_minor": 5
}
